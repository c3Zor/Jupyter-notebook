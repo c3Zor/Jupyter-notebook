{
 "cells": [
  {
   "cell_type": "markdown",
   "metadata": {},
   "source": [
    "# Building a perceptron\n",
    "\n",
    "\n",
    "\n",
    "This post is mostly for my own reference so I can find my notes and explanation to myself on this issue easily. It might have some value to others.\n",
    "\n",
    "Sigmoid Function\n",
    "The sigmoid function is one of many possible functions that are used as a nonlinear activation function between layers of a neural network. \n",
    "I think the most appealing property that makes sigmoid fuction so usefull is that, it gives output value between 0 and 1, with is usefull for binary classification. \n"
   ]
  },
  {
   "cell_type": "markdown",
   "metadata": {},
   "source": [
    " Input values $x_1, x_2,x_3$ synapse weigths $w_1.w_2.w_3$ neuron $  f(\\displaystyle\\sum_{i=1}^n x_i w_i)$ output $\\hat{y}$ <br>\n",
    " So in this case $(\\displaystyle\\sum_{i=1}^n x_i w_i)=\\displaystyle\\sum_{i=1}^3 x_1 w_1 + x_2 w_2 +x_3 w_3 $ "
   ]
  },
  {
   "cell_type": "markdown",
   "metadata": {},
   "source": [
    "#### Sigmoid  and sigmoid derivative plot\n",
    "The reason why calculating the derivative of this function is important, is because the learning process for neural networks involves making small changes to parameters, proportional to the partial derivatives of those parameter values, and relative to the loss function. This requires stepping backwards through the layers, applying the chain rule along each step. So, one of those components that require calculation, is the derivative of the activation function."
   ]
  },
  {
   "cell_type": "code",
   "execution_count": 227,
   "metadata": {},
   "outputs": [
    {
     "name": "stderr",
     "output_type": "stream",
     "text": [
      "/Users/povilassabaliauskas/anaconda3/envs/tensorflow/lib/python3.6/site-packages/ipykernel_launcher.py:30: UserWarning: Matplotlib is currently using module://ipykernel.pylab.backend_inline, which is a non-GUI backend, so cannot show the figure.\n"
     ]
    },
    {
     "data": {
      "image/png": "[encoded data removed]",
      "text/plain": [
       "<Figure size 1080x360 with 1 Axes>"
      ]
     },
     "metadata": {
      "needs_background": "light"
     },
     "output_type": "display_data"
    }
   ],
   "source": [
    "import matplotlib.pyplot as plt\n",
    "import numpy as np\n",
    "%matplotlib inline\n",
    "\n",
    "def sigmoid(x):\n",
    "    return 1./(1+np.exp(-x))\n",
    "\n",
    "def sigmoid_derivative(x):\n",
    "    return x * (1-x)\n",
    "\n",
    "# Calculate plot points\n",
    "x = np.arange(-6., 6., 0.01)\n",
    "y = sigmoid(x)\n",
    "dx = sigmoid_derivative(y)\n",
    "#dz = dx*(1-sigmoid(dx))\n",
    "\n",
    "# Setup centered axes\n",
    "fig, ax = plt.subplots(figsize=(15, 5))\n",
    "ax.spines['left'].set_position('center')\n",
    "ax.spines['right'].set_color('none')\n",
    "ax.spines['top'].set_color('none')\n",
    "ax.xaxis.set_ticks_position('bottom')\n",
    "ax.yaxis.set_ticks_position('left')\n",
    "\n",
    "# Create and show plot\n",
    "ax.plot(x,y, color=\"#307EC7\", linewidth=4, label=\"sigmoid\")\n",
    "ax.plot(x,dx, color=\"#9621E2\", linewidth=4, label=\"sigmoid derivative\")\n",
    "#ax.plot(x,dz,color='#abc222', linewidth=4,label='just')\n",
    "ax.legend(loc=\"upper left\", frameon=False)\n",
    "fig.show()\n"
   ]
  },
  {
   "cell_type": "markdown",
   "metadata": {},
   "source": [
    "Sigmoid normalizing function f(x) in this case so that all values would be from 0 to 1 we use this fuction $f(x)=\\frac{1}{1+e^{-x}} \\to f(x)=\\frac{1}{1+e^{\\sum_{i=1}^n x_i w_i}}$"
   ]
  },
  {
   "cell_type": "code",
   "execution_count": 200,
   "metadata": {},
   "outputs": [],
   "source": [
    "training_input = np.array([[0,0,1],\n",
    "                            [1,1,1],\n",
    "                            [1,0,0],\n",
    "                            [0,1,0],\n",
    "                            [0,1,1],\n",
    "                            [1,0,1]])\n",
    "'''This is a row but we transpose it becouse I'm lazy, without transpose I should write, \n",
    "training_outputs = np.array([[0],\n",
    "                             [1],\n",
    "                             [1],\n",
    "                             [0],\n",
    "                             [0])\n",
    "\n",
    "'''\n",
    "\n",
    "training_outputs = np.array([[0,1,1,0,0,1]]).T"
   ]
  },
  {
   "cell_type": "code",
   "execution_count": 201,
   "metadata": {},
   "outputs": [],
   "source": [
    "np.random.seed(199)"
   ]
  },
  {
   "cell_type": "code",
   "execution_count": 204,
   "metadata": {},
   "outputs": [],
   "source": [
    "# Briefly explaining this line of code, we create matrix 3 by 1, and generate number between 1 and 0 \n",
    "#then we multipy by 2 and subtract -1 so that the range would be between 1 and -1\n",
    "s_weights = 2 * np.random.random((3, 1)) -1"
   ]
  },
  {
   "cell_type": "code",
   "execution_count": 205,
   "metadata": {},
   "outputs": [
    {
     "name": "stdout",
     "output_type": "stream",
     "text": [
      "printing initial value of weights: \n",
      "[[ 0.6883052 ]\n",
      " [-0.0723153 ]\n",
      " [ 0.08968613]]\n",
      "training our outputs \n",
      " [[0.15759797]\n",
      " [0.86627626]\n",
      " [0.99485543]\n",
      " [0.15186876]\n",
      " [0.03241353]\n",
      " [0.97310225]]\n",
      " and our error_rates after each itteration \n",
      "[[-0.15759797]\n",
      " [ 0.13372374]\n",
      " [ 0.00514457]\n",
      " [-0.15186876]\n",
      " [-0.03241353]\n",
      " [ 0.02689775]]\n",
      "training our outputs \n",
      " [[0.1114534 ]\n",
      " [0.90460001]\n",
      " [0.99836847]\n",
      " [0.10995447]\n",
      " [0.01525934]\n",
      " [0.98713912]]\n",
      " and our error_rates after each itteration \n",
      "[[-0.1114534 ]\n",
      " [ 0.09539999]\n",
      " [ 0.00163153]\n",
      " [-0.10995447]\n",
      " [-0.01525934]\n",
      " [ 0.01286088]]\n",
      "training our outputs \n",
      " [[0.09040252]\n",
      " [0.92238928]\n",
      " [0.99917649]\n",
      " [0.08971502]\n",
      " [0.00970031]\n",
      " [0.99177552]]\n",
      " and our error_rates after each itteration \n",
      "[[-0.09040252]\n",
      " [ 0.07761072]\n",
      " [ 0.00082351]\n",
      " [-0.08971502]\n",
      " [-0.00970031]\n",
      " [ 0.00822448]]\n",
      "synaptic weigts after training: \n",
      " [[ 7.10673503]\n",
      " [-2.31898343]\n",
      " [-2.31063398]]\n",
      "outputs after training\n",
      "[[0.09040252]\n",
      " [0.92238928]\n",
      " [0.99917649]\n",
      " [0.08971502]\n",
      " [0.00970031]\n",
      " [0.99177552]]\n"
     ]
    }
   ],
   "source": [
    "print(f\"printing initial value of weights: \\n{s_weights}\")\n",
    "for i in range(1):\n",
    "    for iteration in range(1000):\n",
    "        input_layer = training_input\n",
    "        #so basically this line is the whole formula from above, to normalize the product of the input layer with the synaptic weights\n",
    "        outputs = sigmoid(np.dot(input_layer,s_weights))\n",
    "        #calculating errror rate for adjusting s_weights for better rezults\n",
    "        # comparing given rates, to calculated rates \n",
    "        error_rate = training_outputs - outputs\n",
    "        # making the adjustmend with sigmoid_derivative function\n",
    "        adjustment = error_rate * sigmoid_derivative(outputs)\n",
    "        #Updating weights\n",
    "        s_weights += np.dot(input_layer.T, adjustment)\n",
    "    print(f\"training our outputs \\n {outputs}\\n and our error_rates after each itteration \\n{error_rate}\")\n",
    "print(f\"synaptic weigts after training: \\n {s_weights}\")\n",
    "print(f'outputs after training\\n{outputs}')"
   ]
  },
  {
   "cell_type": "code",
   "execution_count": null,
   "metadata": {},
   "outputs": [],
   "source": []
  },
  {
   "cell_type": "code",
   "execution_count": null,
   "metadata": {},
   "outputs": [],
   "source": []
  },
  {
   "cell_type": "code",
   "execution_count": null,
   "metadata": {},
   "outputs": [],
   "source": []
  },
  {
   "cell_type": "code",
   "execution_count": null,
   "metadata": {},
   "outputs": [],
   "source": []
  },
  {
   "cell_type": "code",
   "execution_count": null,
   "metadata": {},
   "outputs": [],
   "source": []
  }
 ],
 "metadata": {
  "kernelspec": {
   "display_name": "Python 3.6 (tensorflow)",
   "language": "python",
   "name": "tensorflow"
  },
  "language_info": {
   "codemirror_mode": {
    "name": "ipython",
    "version": 3
   },
   "file_extension": ".py",
   "mimetype": "text/x-python",
   "name": "python",
   "nbconvert_exporter": "python",
   "pygments_lexer": "ipython3",
   "version": "3.6.7"
  }
 },
 "nbformat": 4,
 "nbformat_minor": 2
}
